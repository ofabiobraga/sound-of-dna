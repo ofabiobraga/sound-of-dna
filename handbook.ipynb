{
 "cells": [
  {
   "cell_type": "code",
   "execution_count": null,
   "metadata": {},
   "outputs": [],
   "source": [
    "- Podemos manipular o sequenciamento genético dividindo-o em várias faixas de leitura para atribuí-las a diferentes instrumentos musicais."
   ]
  },
  {
   "cell_type": "markdown",
   "metadata": {},
   "source": [
    "## Códons\n",
    "- **AUG:** Codifica a metionina (início da síntese de proteínas).\n",
    "- **UUU, UUC:** Codifica a fenilalanina.\n",
    "- **UUA, UUG:** Codifica a leucina.\n",
    "- **UCU, UCC, UCA, UCG:** Codifica a serina.\n",
    "- **UAU, UAC:** Codifica a tirosina.\n",
    "- **UAA, UAG, UGA:** Códons de terminação.\n",
    "- **UGU, UGC:** Codifica a cisteína.\n",
    "- **UGG:** Codifica o triptofano.\n",
    "- **CUU, CUC, CUA, CUG:** Codifica a leucina.\n",
    "- **CCU, CCC, CCA, CCG:** Codifica a prolina.\n",
    "- **CAU, CAC:** Codifica a histidina.\n",
    "- **CAA, CAG:** Codifica o glutamina.\n",
    "- **CGU, CGC, CGA, CGG:** Codifica a arginina.\n",
    "- **AUU, AUC, AUA:** Codifica a isoleucina.\n",
    "- **AUC:** Codifica a metionina.\n",
    "- **AAG:** Codifica a lisina.\n",
    "- **AGU, AGC:** Codifica a serina.\n",
    "- **ACU, ACC, ACA, ACG:** Codifica a treonina.\n",
    "- **AAU, AAC:** Codifica a asparagina.\n",
    "- **AAA, AAG:** Codifica a lisina.\n",
    "- **AGA, AGG:** Codifica a arginina.\n",
    "- **GUU, GUC, GUA, GUG:** Codifica a valina.\n",
    "- **GCU, GCC, GCA, GCG:** Codifica a alanina.\n",
    "- **GAU, GAC:** Codifica a aspartato.\n",
    "- **GAA, GAG:** Codifica o glutamato.\n",
    "- **GGU, GGC, GGA, GGG:** Codifica a glicina."
   ]
  }
 ],
 "metadata": {
  "language_info": {
   "name": "python"
  },
  "orig_nbformat": 4
 },
 "nbformat": 4,
 "nbformat_minor": 2
}
